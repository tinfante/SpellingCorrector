{
 "cells": [
  {
   "cell_type": "code",
   "execution_count": 1,
   "metadata": {},
   "outputs": [],
   "source": [
    "import re\n",
    "from collections import Counter\n",
    "\n",
    "\n",
    "def tokenize(text):\n",
    "    \"\"\"\n",
    "    Extract alphanumeric tokens.\n",
    "    \"\"\"\n",
    "    return re.findall(r'\\w+', text.lower())\n",
    "\n",
    "\n",
    "with open('big.txt', 'r') as f:\n",
    "    WORDS = Counter(tokenize(f.read()))\n",
    "N = sum(WORDS.values())\n",
    "\n",
    "\n",
    "def probability(word):\n",
    "    \"\"\"\n",
    "    Probability  for ´word´.\n",
    "    \"\"\"\n",
    "    return WORDS[word]/N\n",
    "\n",
    "\n",
    "def known(words):\n",
    "    \"\"\"\n",
    "    The subset of ´words´ contained in the WORDS counter dictionary.\n",
    "    \"\"\"\n",
    "    return set(w for w in words if w in WORDS)\n",
    "\n",
    "\n",
    "def candidates(word):\n",
    "    \"\"\"\n",
    "    Generates all possible corrections for ´word´.\n",
    "    \"\"\"\n",
    "    return (known([word]) or known(edits1(word)) or known(edits2(word)) or [word])\n",
    "\n",
    "\n",
    "def correction(word):\n",
    "    \"\"\"\n",
    "    Most probable spelling correction for ´word´.\n",
    "    \"\"\"\n",
    "    return max(candidates(word), key=probability)\n",
    "\n",
    "\n",
    "def edits1(word):\n",
    "    \"\"\"\n",
    "    All edits that are one edit away from `word`.\n",
    "    \"\"\"\n",
    "    letters    = 'abcdefghijklmnopqrstuvwxyz'\n",
    "    splits     = [(word[:i], word[i:])    for i in range(len(word) + 1)]\n",
    "    deletes    = [L + R[1:]               for L, R in splits if R]\n",
    "    transposes = [L + R[1] + R[0] + R[2:] for L, R in splits if len(R)>1]\n",
    "    replaces   = [L + c + R[1:]           for L, R in splits if R for c in letters]\n",
    "    inserts    = [L + c + R               for L, R in splits for c in letters]\n",
    "    return set(deletes + transposes + replaces + inserts)\n",
    "\n",
    "\n",
    "def edits2(word): \n",
    "    \"All edits that are two edits away from `word`.\"\n",
    "    return (e2 for e1 in edits1(word) for e2 in edits1(e1))"
   ]
  },
  {
   "cell_type": "code",
   "execution_count": 2,
   "metadata": {},
   "outputs": [
    {
     "data": {
      "text/plain": [
       "'spies'"
      ]
     },
     "execution_count": 2,
     "metadata": {},
     "output_type": "execute_result"
    }
   ],
   "source": [
    "correction('spiel')"
   ]
  }
 ],
 "metadata": {
  "kernelspec": {
   "display_name": "Python 3",
   "language": "python",
   "name": "python3"
  },
  "language_info": {
   "codemirror_mode": {
    "name": "ipython",
    "version": 3
   },
   "file_extension": ".py",
   "mimetype": "text/x-python",
   "name": "python",
   "nbconvert_exporter": "python",
   "pygments_lexer": "ipython3",
   "version": "3.7.2"
  }
 },
 "nbformat": 4,
 "nbformat_minor": 2
}
